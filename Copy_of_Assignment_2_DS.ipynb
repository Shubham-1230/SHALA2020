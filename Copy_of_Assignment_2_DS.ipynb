{
  "nbformat": 4,
  "nbformat_minor": 0,
  "metadata": {
    "colab": {
      "name": "Copy of Assignment_2_DS.ipynb",
      "provenance": [],
      "collapsed_sections": [],
      "toc_visible": true,
      "include_colab_link": true
    },
    "kernelspec": {
      "name": "python3",
      "display_name": "Python 3"
    }
  },
  "cells": [
    {
      "cell_type": "markdown",
      "metadata": {
        "id": "view-in-github",
        "colab_type": "text"
      },
      "source": [
        "<a href=\"https://colab.research.google.com/github/Shubham-1230/SHALA2020/blob/master/Copy_of_Assignment_2_DS.ipynb\" target=\"_parent\"><img src=\"https://colab.research.google.com/assets/colab-badge.svg\" alt=\"Open In Colab\"/></a>"
      ]
    },
    {
      "cell_type": "markdown",
      "metadata": {
        "id": "1X6ddOR8HFsX",
        "colab_type": "text"
      },
      "source": [
        "\n",
        "# **Assignment - 2: Basic Data Understanding**\n",
        "\n",
        "---\n",
        "\n",
        "This assignment will get you familiarized with Python libraries and  functions required for data visualization."
      ]
    },
    {
      "cell_type": "markdown",
      "metadata": {
        "id": "XRd4EfXN5fQb",
        "colab_type": "text"
      },
      "source": [
        "---\n",
        "## Part 1 - Loading data \n",
        "---"
      ]
    },
    {
      "cell_type": "markdown",
      "metadata": {
        "id": "Q7W6I-fVIoqp",
        "colab_type": "text"
      },
      "source": [
        "###Import the following libraries:  \n",
        "\n",
        "* ```numpy``` with an alias name ```np```, \n",
        "* ```pandas``` with an alias name ```pd```, \n",
        "* ```matplotlib.pyplot``` with an alias name ```plt```, and \n",
        "* ```seaborn``` with an alias name ```sns```. "
      ]
    },
    {
      "cell_type": "code",
      "metadata": {
        "id": "NihF3MwIGI4m",
        "colab_type": "code",
        "colab": {}
      },
      "source": [
        "# Load the four libraries with their aliases\n",
        "import numpy as np\n",
        "import pandas as pd\n",
        "import matplotlib.pyplot as plt\n",
        "import seaborn as sns"
      ],
      "execution_count": 0,
      "outputs": []
    },
    {
      "cell_type": "markdown",
      "metadata": {
        "id": "dsLj-TSQJgMb",
        "colab_type": "text"
      },
      "source": [
        "### Using the files ```train.csv``` and ```moviesData.csv```,  peform the following:\n",
        "\n",
        "* Load these file as ```pandas``` dataframes and store it in variables named ```df``` and ```movies``` respectively. \n",
        "* Print the first ten rows of ```df```. \n",
        "\n"
      ]
    },
    {
      "cell_type": "code",
      "metadata": {
        "id": "3AjvT40AGIq6",
        "colab_type": "code",
        "colab": {}
      },
      "source": [
        "# Load the file as a dataframe \n",
        "df = pd.read_csv('https://raw.githubusercontent.com/shala2020/shala2020.github.io/master/Lecture_Materials/Assignments/DataScience/L2/train.csv')\n",
        "movies = pd.read_csv('https://raw.githubusercontent.com/shala2020/shala2020.github.io/master/Lecture_Materials/Assignments/DataScience/L2/moviesData.csv')"
      ],
      "execution_count": 0,
      "outputs": []
    },
    {
      "cell_type": "code",
      "metadata": {
        "id": "7eCo7WlMGMkn",
        "colab_type": "code",
        "outputId": "014d72a9-5566-4db1-8535-8fcbaafcbf69",
        "colab": {
          "base_uri": "https://localhost:8080/",
          "height": 299
        }
      },
      "source": [
        "# Print the first ten rows of df\n",
        "df.head()"
      ],
      "execution_count": 0,
      "outputs": [
        {
          "output_type": "execute_result",
          "data": {
            "text/html": [
              "<div>\n",
              "<style scoped>\n",
              "    .dataframe tbody tr th:only-of-type {\n",
              "        vertical-align: middle;\n",
              "    }\n",
              "\n",
              "    .dataframe tbody tr th {\n",
              "        vertical-align: top;\n",
              "    }\n",
              "\n",
              "    .dataframe thead th {\n",
              "        text-align: right;\n",
              "    }\n",
              "</style>\n",
              "<table border=\"1\" class=\"dataframe\">\n",
              "  <thead>\n",
              "    <tr style=\"text-align: right;\">\n",
              "      <th></th>\n",
              "      <th>Age</th>\n",
              "      <th>Attrition</th>\n",
              "      <th>BusinessTravel</th>\n",
              "      <th>DailyRate</th>\n",
              "      <th>Department</th>\n",
              "      <th>DistanceFromHome</th>\n",
              "      <th>Education</th>\n",
              "      <th>EducationField</th>\n",
              "      <th>EmployeeCount</th>\n",
              "      <th>EmployeeNumber</th>\n",
              "      <th>EnvironmentSatisfaction</th>\n",
              "      <th>Gender</th>\n",
              "      <th>HourlyRate</th>\n",
              "      <th>JobInvolvement</th>\n",
              "      <th>JobLevel</th>\n",
              "      <th>JobRole</th>\n",
              "      <th>JobSatisfaction</th>\n",
              "      <th>MaritalStatus</th>\n",
              "      <th>MonthlyIncome</th>\n",
              "      <th>MonthlyRate</th>\n",
              "      <th>NumCompaniesWorked</th>\n",
              "      <th>OverTime</th>\n",
              "      <th>PercentSalaryHike</th>\n",
              "      <th>PerformanceRating</th>\n",
              "      <th>RelationshipSatisfaction</th>\n",
              "      <th>StockOptionLevel</th>\n",
              "      <th>TotalWorkingYears</th>\n",
              "      <th>TrainingTimesLastYear</th>\n",
              "      <th>WorkLifeBalance</th>\n",
              "      <th>YearsAtCompany</th>\n",
              "      <th>YearsInCurrentRole</th>\n",
              "      <th>YearsSinceLastPromotion</th>\n",
              "      <th>YearsWithCurrManager</th>\n",
              "      <th>ID</th>\n",
              "    </tr>\n",
              "  </thead>\n",
              "  <tbody>\n",
              "    <tr>\n",
              "      <th>0</th>\n",
              "      <td>41</td>\n",
              "      <td>1</td>\n",
              "      <td>Travel_Rarely</td>\n",
              "      <td>1102</td>\n",
              "      <td>Sales</td>\n",
              "      <td>1</td>\n",
              "      <td>2</td>\n",
              "      <td>Life Sciences</td>\n",
              "      <td>1</td>\n",
              "      <td>1</td>\n",
              "      <td>2</td>\n",
              "      <td>Female</td>\n",
              "      <td>94</td>\n",
              "      <td>3</td>\n",
              "      <td>2</td>\n",
              "      <td>Sales Executive</td>\n",
              "      <td>4</td>\n",
              "      <td>Single</td>\n",
              "      <td>5993</td>\n",
              "      <td>19479</td>\n",
              "      <td>8</td>\n",
              "      <td>Yes</td>\n",
              "      <td>11</td>\n",
              "      <td>3</td>\n",
              "      <td>1</td>\n",
              "      <td>0</td>\n",
              "      <td>8</td>\n",
              "      <td>0</td>\n",
              "      <td>1</td>\n",
              "      <td>6</td>\n",
              "      <td>4</td>\n",
              "      <td>0</td>\n",
              "      <td>5</td>\n",
              "      <td>0</td>\n",
              "    </tr>\n",
              "    <tr>\n",
              "      <th>1</th>\n",
              "      <td>49</td>\n",
              "      <td>0</td>\n",
              "      <td>Travel_Frequently</td>\n",
              "      <td>279</td>\n",
              "      <td>Research &amp; Development</td>\n",
              "      <td>8</td>\n",
              "      <td>1</td>\n",
              "      <td>Life Sciences</td>\n",
              "      <td>1</td>\n",
              "      <td>2</td>\n",
              "      <td>3</td>\n",
              "      <td>Male</td>\n",
              "      <td>61</td>\n",
              "      <td>2</td>\n",
              "      <td>2</td>\n",
              "      <td>Research Scientist</td>\n",
              "      <td>2</td>\n",
              "      <td>Married</td>\n",
              "      <td>5130</td>\n",
              "      <td>24907</td>\n",
              "      <td>1</td>\n",
              "      <td>No</td>\n",
              "      <td>23</td>\n",
              "      <td>4</td>\n",
              "      <td>4</td>\n",
              "      <td>1</td>\n",
              "      <td>10</td>\n",
              "      <td>3</td>\n",
              "      <td>3</td>\n",
              "      <td>10</td>\n",
              "      <td>7</td>\n",
              "      <td>1</td>\n",
              "      <td>7</td>\n",
              "      <td>1</td>\n",
              "    </tr>\n",
              "    <tr>\n",
              "      <th>2</th>\n",
              "      <td>37</td>\n",
              "      <td>1</td>\n",
              "      <td>Travel_Rarely</td>\n",
              "      <td>1373</td>\n",
              "      <td>Research &amp; Development</td>\n",
              "      <td>2</td>\n",
              "      <td>2</td>\n",
              "      <td>Other</td>\n",
              "      <td>1</td>\n",
              "      <td>4</td>\n",
              "      <td>4</td>\n",
              "      <td>Male</td>\n",
              "      <td>92</td>\n",
              "      <td>2</td>\n",
              "      <td>1</td>\n",
              "      <td>Laboratory Technician</td>\n",
              "      <td>3</td>\n",
              "      <td>Single</td>\n",
              "      <td>2090</td>\n",
              "      <td>2396</td>\n",
              "      <td>6</td>\n",
              "      <td>Yes</td>\n",
              "      <td>15</td>\n",
              "      <td>3</td>\n",
              "      <td>2</td>\n",
              "      <td>0</td>\n",
              "      <td>7</td>\n",
              "      <td>3</td>\n",
              "      <td>3</td>\n",
              "      <td>0</td>\n",
              "      <td>0</td>\n",
              "      <td>0</td>\n",
              "      <td>0</td>\n",
              "      <td>2</td>\n",
              "    </tr>\n",
              "    <tr>\n",
              "      <th>3</th>\n",
              "      <td>33</td>\n",
              "      <td>0</td>\n",
              "      <td>Travel_Frequently</td>\n",
              "      <td>1392</td>\n",
              "      <td>Research &amp; Development</td>\n",
              "      <td>3</td>\n",
              "      <td>4</td>\n",
              "      <td>Life Sciences</td>\n",
              "      <td>1</td>\n",
              "      <td>5</td>\n",
              "      <td>4</td>\n",
              "      <td>Female</td>\n",
              "      <td>56</td>\n",
              "      <td>3</td>\n",
              "      <td>1</td>\n",
              "      <td>Research Scientist</td>\n",
              "      <td>3</td>\n",
              "      <td>Married</td>\n",
              "      <td>2909</td>\n",
              "      <td>23159</td>\n",
              "      <td>1</td>\n",
              "      <td>Yes</td>\n",
              "      <td>11</td>\n",
              "      <td>3</td>\n",
              "      <td>3</td>\n",
              "      <td>0</td>\n",
              "      <td>8</td>\n",
              "      <td>3</td>\n",
              "      <td>3</td>\n",
              "      <td>8</td>\n",
              "      <td>7</td>\n",
              "      <td>3</td>\n",
              "      <td>0</td>\n",
              "      <td>3</td>\n",
              "    </tr>\n",
              "    <tr>\n",
              "      <th>4</th>\n",
              "      <td>27</td>\n",
              "      <td>0</td>\n",
              "      <td>Travel_Rarely</td>\n",
              "      <td>591</td>\n",
              "      <td>Research &amp; Development</td>\n",
              "      <td>2</td>\n",
              "      <td>1</td>\n",
              "      <td>Medical</td>\n",
              "      <td>1</td>\n",
              "      <td>7</td>\n",
              "      <td>1</td>\n",
              "      <td>Male</td>\n",
              "      <td>40</td>\n",
              "      <td>3</td>\n",
              "      <td>1</td>\n",
              "      <td>Laboratory Technician</td>\n",
              "      <td>2</td>\n",
              "      <td>Married</td>\n",
              "      <td>3468</td>\n",
              "      <td>16632</td>\n",
              "      <td>9</td>\n",
              "      <td>No</td>\n",
              "      <td>12</td>\n",
              "      <td>3</td>\n",
              "      <td>4</td>\n",
              "      <td>1</td>\n",
              "      <td>6</td>\n",
              "      <td>3</td>\n",
              "      <td>3</td>\n",
              "      <td>2</td>\n",
              "      <td>2</td>\n",
              "      <td>2</td>\n",
              "      <td>2</td>\n",
              "      <td>4</td>\n",
              "    </tr>\n",
              "  </tbody>\n",
              "</table>\n",
              "</div>"
            ],
            "text/plain": [
              "   Age  Attrition  ... YearsWithCurrManager  ID\n",
              "0   41          1  ...                    5   0\n",
              "1   49          0  ...                    7   1\n",
              "2   37          1  ...                    0   2\n",
              "3   33          0  ...                    0   3\n",
              "4   27          0  ...                    2   4\n",
              "\n",
              "[5 rows x 34 columns]"
            ]
          },
          "metadata": {
            "tags": []
          },
          "execution_count": 10
        }
      ]
    },
    {
      "cell_type": "markdown",
      "metadata": {
        "id": "PSm-U7LEF5u_",
        "colab_type": "text"
      },
      "source": [
        "### Using the dataframe ```df```, perform the following: \n",
        "\n",
        "* Print the first five rows of the column ```MonthlyRate```. \n",
        "* Find out the details of the column ```MonthlyRate``` like mean, maximum value, minimum value, etc. "
      ]
    },
    {
      "cell_type": "code",
      "metadata": {
        "id": "QS5LttI-GT2f",
        "colab_type": "code",
        "outputId": "dba5f5b6-352c-424d-aa54-7595de0a4b82",
        "colab": {
          "base_uri": "https://localhost:8080/",
          "height": 118
        }
      },
      "source": [
        "# Print the first five rows of MonthlyRate\n",
        "df.MonthlyRate.head()"
      ],
      "execution_count": 0,
      "outputs": [
        {
          "output_type": "execute_result",
          "data": {
            "text/plain": [
              "0    19479\n",
              "1    24907\n",
              "2     2396\n",
              "3    23159\n",
              "4    16632\n",
              "Name: MonthlyRate, dtype: int64"
            ]
          },
          "metadata": {
            "tags": []
          },
          "execution_count": 11
        }
      ]
    },
    {
      "cell_type": "code",
      "metadata": {
        "id": "EzQ1a1M0GURm",
        "colab_type": "code",
        "outputId": "bfe5c706-7c31-43f0-ffd6-13733ff2288e",
        "colab": {
          "base_uri": "https://localhost:8080/",
          "height": 304
        }
      },
      "source": [
        "# Find the details of MonthlyRate \n",
        "df.describe()"
      ],
      "execution_count": 0,
      "outputs": [
        {
          "output_type": "execute_result",
          "data": {
            "text/html": [
              "<div>\n",
              "<style scoped>\n",
              "    .dataframe tbody tr th:only-of-type {\n",
              "        vertical-align: middle;\n",
              "    }\n",
              "\n",
              "    .dataframe tbody tr th {\n",
              "        vertical-align: top;\n",
              "    }\n",
              "\n",
              "    .dataframe thead th {\n",
              "        text-align: right;\n",
              "    }\n",
              "</style>\n",
              "<table border=\"1\" class=\"dataframe\">\n",
              "  <thead>\n",
              "    <tr style=\"text-align: right;\">\n",
              "      <th></th>\n",
              "      <th>Age</th>\n",
              "      <th>Attrition</th>\n",
              "      <th>DailyRate</th>\n",
              "      <th>DistanceFromHome</th>\n",
              "      <th>Education</th>\n",
              "      <th>EmployeeCount</th>\n",
              "      <th>EmployeeNumber</th>\n",
              "      <th>EnvironmentSatisfaction</th>\n",
              "      <th>HourlyRate</th>\n",
              "      <th>JobInvolvement</th>\n",
              "      <th>JobLevel</th>\n",
              "      <th>JobSatisfaction</th>\n",
              "      <th>MonthlyIncome</th>\n",
              "      <th>MonthlyRate</th>\n",
              "      <th>NumCompaniesWorked</th>\n",
              "      <th>PercentSalaryHike</th>\n",
              "      <th>PerformanceRating</th>\n",
              "      <th>RelationshipSatisfaction</th>\n",
              "      <th>StockOptionLevel</th>\n",
              "      <th>TotalWorkingYears</th>\n",
              "      <th>TrainingTimesLastYear</th>\n",
              "      <th>WorkLifeBalance</th>\n",
              "      <th>YearsAtCompany</th>\n",
              "      <th>YearsInCurrentRole</th>\n",
              "      <th>YearsSinceLastPromotion</th>\n",
              "      <th>YearsWithCurrManager</th>\n",
              "      <th>ID</th>\n",
              "    </tr>\n",
              "  </thead>\n",
              "  <tbody>\n",
              "    <tr>\n",
              "      <th>count</th>\n",
              "      <td>1028.000000</td>\n",
              "      <td>1028.000000</td>\n",
              "      <td>1028.000000</td>\n",
              "      <td>1028.000000</td>\n",
              "      <td>1028.000000</td>\n",
              "      <td>1028.0</td>\n",
              "      <td>1028.000000</td>\n",
              "      <td>1028.000000</td>\n",
              "      <td>1028.000000</td>\n",
              "      <td>1028.000000</td>\n",
              "      <td>1028.000000</td>\n",
              "      <td>1028.000000</td>\n",
              "      <td>1028.000000</td>\n",
              "      <td>1028.000000</td>\n",
              "      <td>1028.000000</td>\n",
              "      <td>1028.000000</td>\n",
              "      <td>1028.000000</td>\n",
              "      <td>1028.000000</td>\n",
              "      <td>1028.000000</td>\n",
              "      <td>1028.000000</td>\n",
              "      <td>1028.000000</td>\n",
              "      <td>1028.000000</td>\n",
              "      <td>1028.000000</td>\n",
              "      <td>1028.000000</td>\n",
              "      <td>1028.000000</td>\n",
              "      <td>1028.000000</td>\n",
              "      <td>1028.000000</td>\n",
              "    </tr>\n",
              "    <tr>\n",
              "      <th>mean</th>\n",
              "      <td>36.999027</td>\n",
              "      <td>0.167315</td>\n",
              "      <td>806.551556</td>\n",
              "      <td>9.010700</td>\n",
              "      <td>2.873541</td>\n",
              "      <td>1.0</td>\n",
              "      <td>710.198444</td>\n",
              "      <td>2.719844</td>\n",
              "      <td>65.451362</td>\n",
              "      <td>2.731518</td>\n",
              "      <td>2.093385</td>\n",
              "      <td>2.757782</td>\n",
              "      <td>6632.573930</td>\n",
              "      <td>14243.531128</td>\n",
              "      <td>2.697471</td>\n",
              "      <td>15.172179</td>\n",
              "      <td>3.152724</td>\n",
              "      <td>2.732490</td>\n",
              "      <td>0.758755</td>\n",
              "      <td>11.417315</td>\n",
              "      <td>2.769455</td>\n",
              "      <td>2.763619</td>\n",
              "      <td>7.100195</td>\n",
              "      <td>4.263619</td>\n",
              "      <td>2.210117</td>\n",
              "      <td>4.141051</td>\n",
              "      <td>513.500000</td>\n",
              "    </tr>\n",
              "    <tr>\n",
              "      <th>std</th>\n",
              "      <td>9.444297</td>\n",
              "      <td>0.373439</td>\n",
              "      <td>407.043735</td>\n",
              "      <td>8.078418</td>\n",
              "      <td>1.032840</td>\n",
              "      <td>0.0</td>\n",
              "      <td>418.513656</td>\n",
              "      <td>1.089614</td>\n",
              "      <td>20.274229</td>\n",
              "      <td>0.703240</td>\n",
              "      <td>1.141854</td>\n",
              "      <td>1.105306</td>\n",
              "      <td>4855.747841</td>\n",
              "      <td>7048.768076</td>\n",
              "      <td>2.527534</td>\n",
              "      <td>3.647641</td>\n",
              "      <td>0.359896</td>\n",
              "      <td>1.088774</td>\n",
              "      <td>0.836236</td>\n",
              "      <td>8.015441</td>\n",
              "      <td>1.302518</td>\n",
              "      <td>0.703005</td>\n",
              "      <td>6.316289</td>\n",
              "      <td>3.630387</td>\n",
              "      <td>3.288559</td>\n",
              "      <td>3.608460</td>\n",
              "      <td>296.902341</td>\n",
              "    </tr>\n",
              "    <tr>\n",
              "      <th>min</th>\n",
              "      <td>18.000000</td>\n",
              "      <td>0.000000</td>\n",
              "      <td>102.000000</td>\n",
              "      <td>1.000000</td>\n",
              "      <td>1.000000</td>\n",
              "      <td>1.0</td>\n",
              "      <td>1.000000</td>\n",
              "      <td>1.000000</td>\n",
              "      <td>30.000000</td>\n",
              "      <td>1.000000</td>\n",
              "      <td>1.000000</td>\n",
              "      <td>1.000000</td>\n",
              "      <td>1009.000000</td>\n",
              "      <td>2094.000000</td>\n",
              "      <td>0.000000</td>\n",
              "      <td>11.000000</td>\n",
              "      <td>3.000000</td>\n",
              "      <td>1.000000</td>\n",
              "      <td>0.000000</td>\n",
              "      <td>0.000000</td>\n",
              "      <td>0.000000</td>\n",
              "      <td>1.000000</td>\n",
              "      <td>0.000000</td>\n",
              "      <td>0.000000</td>\n",
              "      <td>0.000000</td>\n",
              "      <td>0.000000</td>\n",
              "      <td>0.000000</td>\n",
              "    </tr>\n",
              "    <tr>\n",
              "      <th>25%</th>\n",
              "      <td>30.000000</td>\n",
              "      <td>0.000000</td>\n",
              "      <td>465.750000</td>\n",
              "      <td>2.000000</td>\n",
              "      <td>2.000000</td>\n",
              "      <td>1.0</td>\n",
              "      <td>351.750000</td>\n",
              "      <td>2.000000</td>\n",
              "      <td>48.000000</td>\n",
              "      <td>2.000000</td>\n",
              "      <td>1.000000</td>\n",
              "      <td>2.000000</td>\n",
              "      <td>2886.000000</td>\n",
              "      <td>8259.750000</td>\n",
              "      <td>1.000000</td>\n",
              "      <td>12.000000</td>\n",
              "      <td>3.000000</td>\n",
              "      <td>2.000000</td>\n",
              "      <td>0.000000</td>\n",
              "      <td>6.000000</td>\n",
              "      <td>2.000000</td>\n",
              "      <td>2.000000</td>\n",
              "      <td>3.000000</td>\n",
              "      <td>2.000000</td>\n",
              "      <td>0.000000</td>\n",
              "      <td>2.000000</td>\n",
              "      <td>256.750000</td>\n",
              "    </tr>\n",
              "    <tr>\n",
              "      <th>50%</th>\n",
              "      <td>36.000000</td>\n",
              "      <td>0.000000</td>\n",
              "      <td>813.000000</td>\n",
              "      <td>7.000000</td>\n",
              "      <td>3.000000</td>\n",
              "      <td>1.0</td>\n",
              "      <td>701.500000</td>\n",
              "      <td>3.000000</td>\n",
              "      <td>65.000000</td>\n",
              "      <td>3.000000</td>\n",
              "      <td>2.000000</td>\n",
              "      <td>3.000000</td>\n",
              "      <td>4907.500000</td>\n",
              "      <td>14074.500000</td>\n",
              "      <td>2.000000</td>\n",
              "      <td>14.000000</td>\n",
              "      <td>3.000000</td>\n",
              "      <td>3.000000</td>\n",
              "      <td>1.000000</td>\n",
              "      <td>10.000000</td>\n",
              "      <td>3.000000</td>\n",
              "      <td>3.000000</td>\n",
              "      <td>5.000000</td>\n",
              "      <td>3.000000</td>\n",
              "      <td>1.000000</td>\n",
              "      <td>3.000000</td>\n",
              "      <td>513.500000</td>\n",
              "    </tr>\n",
              "    <tr>\n",
              "      <th>75%</th>\n",
              "      <td>43.000000</td>\n",
              "      <td>0.000000</td>\n",
              "      <td>1157.250000</td>\n",
              "      <td>13.000000</td>\n",
              "      <td>4.000000</td>\n",
              "      <td>1.0</td>\n",
              "      <td>1069.250000</td>\n",
              "      <td>4.000000</td>\n",
              "      <td>83.000000</td>\n",
              "      <td>3.000000</td>\n",
              "      <td>3.000000</td>\n",
              "      <td>4.000000</td>\n",
              "      <td>8729.500000</td>\n",
              "      <td>20342.250000</td>\n",
              "      <td>4.000000</td>\n",
              "      <td>18.000000</td>\n",
              "      <td>3.000000</td>\n",
              "      <td>4.000000</td>\n",
              "      <td>1.000000</td>\n",
              "      <td>16.000000</td>\n",
              "      <td>3.000000</td>\n",
              "      <td>3.000000</td>\n",
              "      <td>9.000000</td>\n",
              "      <td>7.000000</td>\n",
              "      <td>3.000000</td>\n",
              "      <td>7.000000</td>\n",
              "      <td>770.250000</td>\n",
              "    </tr>\n",
              "    <tr>\n",
              "      <th>max</th>\n",
              "      <td>60.000000</td>\n",
              "      <td>1.000000</td>\n",
              "      <td>1499.000000</td>\n",
              "      <td>29.000000</td>\n",
              "      <td>5.000000</td>\n",
              "      <td>1.0</td>\n",
              "      <td>1447.000000</td>\n",
              "      <td>4.000000</td>\n",
              "      <td>100.000000</td>\n",
              "      <td>4.000000</td>\n",
              "      <td>5.000000</td>\n",
              "      <td>4.000000</td>\n",
              "      <td>19999.000000</td>\n",
              "      <td>26999.000000</td>\n",
              "      <td>9.000000</td>\n",
              "      <td>25.000000</td>\n",
              "      <td>4.000000</td>\n",
              "      <td>4.000000</td>\n",
              "      <td>3.000000</td>\n",
              "      <td>40.000000</td>\n",
              "      <td>6.000000</td>\n",
              "      <td>4.000000</td>\n",
              "      <td>40.000000</td>\n",
              "      <td>18.000000</td>\n",
              "      <td>15.000000</td>\n",
              "      <td>17.000000</td>\n",
              "      <td>1027.000000</td>\n",
              "    </tr>\n",
              "  </tbody>\n",
              "</table>\n",
              "</div>"
            ],
            "text/plain": [
              "               Age    Attrition  ...  YearsWithCurrManager           ID\n",
              "count  1028.000000  1028.000000  ...           1028.000000  1028.000000\n",
              "mean     36.999027     0.167315  ...              4.141051   513.500000\n",
              "std       9.444297     0.373439  ...              3.608460   296.902341\n",
              "min      18.000000     0.000000  ...              0.000000     0.000000\n",
              "25%      30.000000     0.000000  ...              2.000000   256.750000\n",
              "50%      36.000000     0.000000  ...              3.000000   513.500000\n",
              "75%      43.000000     0.000000  ...              7.000000   770.250000\n",
              "max      60.000000     1.000000  ...             17.000000  1027.000000\n",
              "\n",
              "[8 rows x 27 columns]"
            ]
          },
          "metadata": {
            "tags": []
          },
          "execution_count": 12
        }
      ]
    },
    {
      "cell_type": "markdown",
      "metadata": {
        "id": "3h-YOTvPQI48",
        "colab_type": "text"
      },
      "source": [
        "---\n",
        "## Part 2 - Cleaning and manipulating data \n",
        "---"
      ]
    },
    {
      "cell_type": "markdown",
      "metadata": {
        "id": "EtLzBibsQfXu",
        "colab_type": "text"
      },
      "source": [
        "### Using the dataframe ```df```, peform the following:\n",
        "\n",
        "* Check whether there are any missing values in ```df```. \n",
        "* If yes, drop those values and print the size of ```df``` after dropping these. "
      ]
    },
    {
      "cell_type": "code",
      "metadata": {
        "id": "XG-UK53fRDRZ",
        "colab_type": "code",
        "outputId": "f2bcc582-9f1c-4458-e4f2-2a09b43b6ad5",
        "colab": {
          "base_uri": "https://localhost:8080/",
          "height": 622
        }
      },
      "source": [
        "# Check for missing values \n",
        "print(df.isna().sum())\n",
        "\n",
        "# Drop the missing values \n",
        "df.dropna(inplace=True)\n",
        "\n",
        "# Print the size of df after dropping \n",
        "df.shape\n"
      ],
      "execution_count": 0,
      "outputs": [
        {
          "output_type": "stream",
          "text": [
            "Age                         0\n",
            "Attrition                   0\n",
            "BusinessTravel              0\n",
            "DailyRate                   0\n",
            "Department                  0\n",
            "DistanceFromHome            0\n",
            "Education                   0\n",
            "EducationField              0\n",
            "EmployeeCount               0\n",
            "EmployeeNumber              0\n",
            "EnvironmentSatisfaction     0\n",
            "Gender                      0\n",
            "HourlyRate                  0\n",
            "JobInvolvement              0\n",
            "JobLevel                    0\n",
            "JobRole                     0\n",
            "JobSatisfaction             0\n",
            "MaritalStatus               0\n",
            "MonthlyIncome               0\n",
            "MonthlyRate                 0\n",
            "NumCompaniesWorked          0\n",
            "OverTime                    0\n",
            "PercentSalaryHike           0\n",
            "PerformanceRating           0\n",
            "RelationshipSatisfaction    0\n",
            "StockOptionLevel            0\n",
            "TotalWorkingYears           0\n",
            "TrainingTimesLastYear       0\n",
            "WorkLifeBalance             0\n",
            "YearsAtCompany              0\n",
            "YearsInCurrentRole          0\n",
            "YearsSinceLastPromotion     0\n",
            "YearsWithCurrManager        0\n",
            "ID                          0\n",
            "dtype: int64\n"
          ],
          "name": "stdout"
        },
        {
          "output_type": "execute_result",
          "data": {
            "text/plain": [
              "(1028, 34)"
            ]
          },
          "metadata": {
            "tags": []
          },
          "execution_count": 15
        }
      ]
    },
    {
      "cell_type": "markdown",
      "metadata": {
        "id": "qtoGcl2XRWnS",
        "colab_type": "text"
      },
      "source": [
        "### Using the dataframe ```df```, peform the following:\n",
        "\n",
        "* Add another column named ```MonthRateNew``` in ```df``` by subtracting the mean from ```MonthlyRate``` and dividing it by standard deviation. "
      ]
    },
    {
      "cell_type": "code",
      "metadata": {
        "id": "zDMncSUKR12P",
        "colab_type": "code",
        "outputId": "a090c793-3ee8-42e6-b6bb-f60f8e676699",
        "colab": {
          "base_uri": "https://localhost:8080/",
          "height": 299
        }
      },
      "source": [
        "# Add a column named MonthRateNew \n",
        "df['MonthlyRateNew'] = (df.MonthlyRate - np.mean(df.MonthlyRate))/np.std(df.MonthlyRate)\n",
        "df.head()"
      ],
      "execution_count": 0,
      "outputs": [
        {
          "output_type": "execute_result",
          "data": {
            "text/html": [
              "<div>\n",
              "<style scoped>\n",
              "    .dataframe tbody tr th:only-of-type {\n",
              "        vertical-align: middle;\n",
              "    }\n",
              "\n",
              "    .dataframe tbody tr th {\n",
              "        vertical-align: top;\n",
              "    }\n",
              "\n",
              "    .dataframe thead th {\n",
              "        text-align: right;\n",
              "    }\n",
              "</style>\n",
              "<table border=\"1\" class=\"dataframe\">\n",
              "  <thead>\n",
              "    <tr style=\"text-align: right;\">\n",
              "      <th></th>\n",
              "      <th>Age</th>\n",
              "      <th>Attrition</th>\n",
              "      <th>BusinessTravel</th>\n",
              "      <th>DailyRate</th>\n",
              "      <th>Department</th>\n",
              "      <th>DistanceFromHome</th>\n",
              "      <th>Education</th>\n",
              "      <th>EducationField</th>\n",
              "      <th>EmployeeCount</th>\n",
              "      <th>EmployeeNumber</th>\n",
              "      <th>EnvironmentSatisfaction</th>\n",
              "      <th>Gender</th>\n",
              "      <th>HourlyRate</th>\n",
              "      <th>JobInvolvement</th>\n",
              "      <th>JobLevel</th>\n",
              "      <th>JobRole</th>\n",
              "      <th>JobSatisfaction</th>\n",
              "      <th>MaritalStatus</th>\n",
              "      <th>MonthlyIncome</th>\n",
              "      <th>MonthlyRate</th>\n",
              "      <th>NumCompaniesWorked</th>\n",
              "      <th>OverTime</th>\n",
              "      <th>PercentSalaryHike</th>\n",
              "      <th>PerformanceRating</th>\n",
              "      <th>RelationshipSatisfaction</th>\n",
              "      <th>StockOptionLevel</th>\n",
              "      <th>TotalWorkingYears</th>\n",
              "      <th>TrainingTimesLastYear</th>\n",
              "      <th>WorkLifeBalance</th>\n",
              "      <th>YearsAtCompany</th>\n",
              "      <th>YearsInCurrentRole</th>\n",
              "      <th>YearsSinceLastPromotion</th>\n",
              "      <th>YearsWithCurrManager</th>\n",
              "      <th>ID</th>\n",
              "      <th>MonthlyRateNew</th>\n",
              "    </tr>\n",
              "  </thead>\n",
              "  <tbody>\n",
              "    <tr>\n",
              "      <th>0</th>\n",
              "      <td>41</td>\n",
              "      <td>1</td>\n",
              "      <td>Travel_Rarely</td>\n",
              "      <td>1102</td>\n",
              "      <td>Sales</td>\n",
              "      <td>1</td>\n",
              "      <td>2</td>\n",
              "      <td>Life Sciences</td>\n",
              "      <td>1</td>\n",
              "      <td>1</td>\n",
              "      <td>2</td>\n",
              "      <td>Female</td>\n",
              "      <td>94</td>\n",
              "      <td>3</td>\n",
              "      <td>2</td>\n",
              "      <td>Sales Executive</td>\n",
              "      <td>4</td>\n",
              "      <td>Single</td>\n",
              "      <td>5993</td>\n",
              "      <td>19479</td>\n",
              "      <td>8</td>\n",
              "      <td>Yes</td>\n",
              "      <td>11</td>\n",
              "      <td>3</td>\n",
              "      <td>1</td>\n",
              "      <td>0</td>\n",
              "      <td>8</td>\n",
              "      <td>0</td>\n",
              "      <td>1</td>\n",
              "      <td>6</td>\n",
              "      <td>4</td>\n",
              "      <td>0</td>\n",
              "      <td>5</td>\n",
              "      <td>0</td>\n",
              "      <td>0.743111</td>\n",
              "    </tr>\n",
              "    <tr>\n",
              "      <th>1</th>\n",
              "      <td>49</td>\n",
              "      <td>0</td>\n",
              "      <td>Travel_Frequently</td>\n",
              "      <td>279</td>\n",
              "      <td>Research &amp; Development</td>\n",
              "      <td>8</td>\n",
              "      <td>1</td>\n",
              "      <td>Life Sciences</td>\n",
              "      <td>1</td>\n",
              "      <td>2</td>\n",
              "      <td>3</td>\n",
              "      <td>Male</td>\n",
              "      <td>61</td>\n",
              "      <td>2</td>\n",
              "      <td>2</td>\n",
              "      <td>Research Scientist</td>\n",
              "      <td>2</td>\n",
              "      <td>Married</td>\n",
              "      <td>5130</td>\n",
              "      <td>24907</td>\n",
              "      <td>1</td>\n",
              "      <td>No</td>\n",
              "      <td>23</td>\n",
              "      <td>4</td>\n",
              "      <td>4</td>\n",
              "      <td>1</td>\n",
              "      <td>10</td>\n",
              "      <td>3</td>\n",
              "      <td>3</td>\n",
              "      <td>10</td>\n",
              "      <td>7</td>\n",
              "      <td>1</td>\n",
              "      <td>7</td>\n",
              "      <td>1</td>\n",
              "      <td>1.513549</td>\n",
              "    </tr>\n",
              "    <tr>\n",
              "      <th>2</th>\n",
              "      <td>37</td>\n",
              "      <td>1</td>\n",
              "      <td>Travel_Rarely</td>\n",
              "      <td>1373</td>\n",
              "      <td>Research &amp; Development</td>\n",
              "      <td>2</td>\n",
              "      <td>2</td>\n",
              "      <td>Other</td>\n",
              "      <td>1</td>\n",
              "      <td>4</td>\n",
              "      <td>4</td>\n",
              "      <td>Male</td>\n",
              "      <td>92</td>\n",
              "      <td>2</td>\n",
              "      <td>1</td>\n",
              "      <td>Laboratory Technician</td>\n",
              "      <td>3</td>\n",
              "      <td>Single</td>\n",
              "      <td>2090</td>\n",
              "      <td>2396</td>\n",
              "      <td>6</td>\n",
              "      <td>Yes</td>\n",
              "      <td>15</td>\n",
              "      <td>3</td>\n",
              "      <td>2</td>\n",
              "      <td>0</td>\n",
              "      <td>7</td>\n",
              "      <td>3</td>\n",
              "      <td>3</td>\n",
              "      <td>0</td>\n",
              "      <td>0</td>\n",
              "      <td>0</td>\n",
              "      <td>0</td>\n",
              "      <td>2</td>\n",
              "      <td>-1.681613</td>\n",
              "    </tr>\n",
              "    <tr>\n",
              "      <th>3</th>\n",
              "      <td>33</td>\n",
              "      <td>0</td>\n",
              "      <td>Travel_Frequently</td>\n",
              "      <td>1392</td>\n",
              "      <td>Research &amp; Development</td>\n",
              "      <td>3</td>\n",
              "      <td>4</td>\n",
              "      <td>Life Sciences</td>\n",
              "      <td>1</td>\n",
              "      <td>5</td>\n",
              "      <td>4</td>\n",
              "      <td>Female</td>\n",
              "      <td>56</td>\n",
              "      <td>3</td>\n",
              "      <td>1</td>\n",
              "      <td>Research Scientist</td>\n",
              "      <td>3</td>\n",
              "      <td>Married</td>\n",
              "      <td>2909</td>\n",
              "      <td>23159</td>\n",
              "      <td>1</td>\n",
              "      <td>Yes</td>\n",
              "      <td>11</td>\n",
              "      <td>3</td>\n",
              "      <td>3</td>\n",
              "      <td>0</td>\n",
              "      <td>8</td>\n",
              "      <td>3</td>\n",
              "      <td>3</td>\n",
              "      <td>8</td>\n",
              "      <td>7</td>\n",
              "      <td>3</td>\n",
              "      <td>0</td>\n",
              "      <td>3</td>\n",
              "      <td>1.265442</td>\n",
              "    </tr>\n",
              "    <tr>\n",
              "      <th>4</th>\n",
              "      <td>27</td>\n",
              "      <td>0</td>\n",
              "      <td>Travel_Rarely</td>\n",
              "      <td>591</td>\n",
              "      <td>Research &amp; Development</td>\n",
              "      <td>2</td>\n",
              "      <td>1</td>\n",
              "      <td>Medical</td>\n",
              "      <td>1</td>\n",
              "      <td>7</td>\n",
              "      <td>1</td>\n",
              "      <td>Male</td>\n",
              "      <td>40</td>\n",
              "      <td>3</td>\n",
              "      <td>1</td>\n",
              "      <td>Laboratory Technician</td>\n",
              "      <td>2</td>\n",
              "      <td>Married</td>\n",
              "      <td>3468</td>\n",
              "      <td>16632</td>\n",
              "      <td>9</td>\n",
              "      <td>No</td>\n",
              "      <td>12</td>\n",
              "      <td>3</td>\n",
              "      <td>4</td>\n",
              "      <td>1</td>\n",
              "      <td>6</td>\n",
              "      <td>3</td>\n",
              "      <td>3</td>\n",
              "      <td>2</td>\n",
              "      <td>2</td>\n",
              "      <td>2</td>\n",
              "      <td>2</td>\n",
              "      <td>4</td>\n",
              "      <td>0.339014</td>\n",
              "    </tr>\n",
              "  </tbody>\n",
              "</table>\n",
              "</div>"
            ],
            "text/plain": [
              "   Age  Attrition     BusinessTravel  ...  YearsWithCurrManager ID  MonthlyRateNew\n",
              "0   41          1      Travel_Rarely  ...                     5  0        0.743111\n",
              "1   49          0  Travel_Frequently  ...                     7  1        1.513549\n",
              "2   37          1      Travel_Rarely  ...                     0  2       -1.681613\n",
              "3   33          0  Travel_Frequently  ...                     0  3        1.265442\n",
              "4   27          0      Travel_Rarely  ...                     2  4        0.339014\n",
              "\n",
              "[5 rows x 35 columns]"
            ]
          },
          "metadata": {
            "tags": []
          },
          "execution_count": 19
        }
      ]
    },
    {
      "cell_type": "markdown",
      "metadata": {
        "id": "pcbN7jep13og",
        "colab_type": "text"
      },
      "source": [
        "### Using the dataframe ```movies```, perform the following: \n",
        "\n",
        "* Check whether there are any missing values in ```movies```. \n",
        "* Find out the number of observations/rows having any of their features/columns missing. \n",
        "* Drop the missing values and print the size of ```movies``` after dropping these. \n",
        "* Instead of dropping the missing values, replace the missing values by their mean (or some suitable value). \n"
      ]
    },
    {
      "cell_type": "code",
      "metadata": {
        "id": "DNszBx8A14ai",
        "colab_type": "code",
        "outputId": "bb614b7c-6fc8-4a27-edaf-3d5f4861851b",
        "colab": {
          "base_uri": "https://localhost:8080/",
          "height": 554
        }
      },
      "source": [
        "# Check for missing values \n",
        "print(movies.isna().sum())\n",
        "# movies.info()\n",
        "# Drop the missing values \n",
        "movies2 = movies.dropna()\n",
        "movies2.shape\n",
        "# Replace the missing values \n",
        "# You can use SimpleImputer of sklearn for this\n",
        "movies.loc[movies['runtime'].isna()]\n",
        "movies['runtime'] = movies['runtime'].fillna(movies['runtime'].mean())\n",
        "print(movies.isna().sum())"
      ],
      "execution_count": 0,
      "outputs": [
        {
          "output_type": "stream",
          "text": [
            "Unnamed: 0           0\n",
            "title                0\n",
            "title_type           0\n",
            "genre                0\n",
            "runtime              0\n",
            "mpaa_rating          0\n",
            "studio               5\n",
            "thtr_rel_year        0\n",
            "thtr_rel_month       0\n",
            "thtr_rel_day         0\n",
            "dvd_rel_year         7\n",
            "dvd_rel_month        7\n",
            "dvd_rel_day          7\n",
            "imdb_rating          0\n",
            "imdb_num_votes       0\n",
            "critics_rating       0\n",
            "critics_score        0\n",
            "audience_rating      0\n",
            "audience_score       0\n",
            "best_pic_nom         0\n",
            "best_pic_win         0\n",
            "best_actor_win       0\n",
            "best_actress_win     0\n",
            "best_dir_win         0\n",
            "top200_box           0\n",
            "director             2\n",
            "actor1               2\n",
            "actor2               7\n",
            "actor3               9\n",
            "actor4              12\n",
            "actor5              14\n",
            "dtype: int64\n"
          ],
          "name": "stdout"
        }
      ]
    },
    {
      "cell_type": "markdown",
      "metadata": {
        "id": "qDr11sjlBk_W",
        "colab_type": "text"
      },
      "source": [
        "---\n",
        "## Part 3 - Visualizing data \n",
        "---"
      ]
    },
    {
      "cell_type": "markdown",
      "metadata": {
        "id": "wC_w1zNCBw2G",
        "colab_type": "text"
      },
      "source": [
        "### Visualize the ```df``` by drawing the following plots:\n",
        "\n",
        "* Plot a histogram of ```Age``` and find the range in which most people are there. \n",
        "* Modify the histogram of ```Age``` by adding 30 bins. \n",
        "* Draw a scatter plot between ```Age``` and ```Attrition``` and suitable labels to the axes. Find out whether people more than 50 years are more likely to leave the company. (```Attrition``` = 1 means people have left the company). "
      ]
    },
    {
      "cell_type": "code",
      "metadata": {
        "id": "645EwAsoH63i",
        "colab_type": "code",
        "outputId": "a92dc92e-72ec-4f4d-a289-544fead1b9be",
        "colab": {
          "base_uri": "https://localhost:8080/",
          "height": 585
        }
      },
      "source": [
        "# Plot and modify the histogram of Age\n",
        "plt.hist(df.Age, bins=30)\n",
        "\n",
        "# Draw a scatter plot between Age and Attrition\n",
        "plt.figure(figsize=(12,5))\n",
        "plt.scatter(df.Age, df.Attrition)\n"
      ],
      "execution_count": 0,
      "outputs": [
        {
          "output_type": "execute_result",
          "data": {
            "text/plain": [
              "<matplotlib.collections.PathCollection at 0x7efe21751f28>"
            ]
          },
          "metadata": {
            "tags": []
          },
          "execution_count": 42
        },
        {
          "output_type": "display_data",
          "data": {
            "image/png": "[encoded data removed]",
            "text/plain": [
              "<Figure size 432x288 with 1 Axes>"
            ]
          },
          "metadata": {
            "tags": [],
            "needs_background": "light"
          }
        },
        {
          "output_type": "display_data",
          "data": {
            "image/png": "[encoded data removed]",
            "text/plain": [
              "<Figure size 864x360 with 1 Axes>"
            ]
          },
          "metadata": {
            "tags": [],
            "needs_background": "light"
          }
        }
      ]
    },
    {
      "cell_type": "markdown",
      "metadata": {
        "id": "eez_pkZ-HDKP",
        "colab_type": "text"
      },
      "source": [
        "### Visualize the ```df``` by following the steps given below:\n",
        "\n",
        "* Get a series containing counts of unique values of ```Attrition```.\n",
        "* Draw a countplot for ```Attrition``` using ```sns.countplot()```. "
      ]
    },
    {
      "cell_type": "code",
      "metadata": {
        "id": "Tp8LnxLWIPfk",
        "colab_type": "code",
        "outputId": "c72ef2e4-06e9-497e-e2e6-284cf135187c",
        "colab": {
          "base_uri": "https://localhost:8080/",
          "height": 296
        }
      },
      "source": [
        "# Get a series of counts of values of Attrition\n",
        "df.Attrition.value_counts()\n",
        "\n",
        "# Draw a countplot for Attrition\n",
        "# You may use countplot of seaborn for this\n",
        "sns.countplot(x='Attrition', data = df)\n"
      ],
      "execution_count": 0,
      "outputs": [
        {
          "output_type": "execute_result",
          "data": {
            "text/plain": [
              "<matplotlib.axes._subplots.AxesSubplot at 0x7efe213ed5f8>"
            ]
          },
          "metadata": {
            "tags": []
          },
          "execution_count": 56
        },
        {
          "output_type": "display_data",
          "data": {
            "image/png": "[encoded data removed]",
            "text/plain": [
              "<Figure size 432x288 with 1 Axes>"
            ]
          },
          "metadata": {
            "tags": [],
            "needs_background": "light"
          }
        }
      ]
    },
    {
      "cell_type": "markdown",
      "metadata": {
        "id": "Vi01m9MBHaJD",
        "colab_type": "text"
      },
      "source": [
        "### Visualize the ```df``` by following the steps given below:\n",
        "\n",
        "* Draw a cross tabulation of ```Attrition``` and ```BusinessTravel``` as bar charts. Find which value of ```BusinessTravel``` has highest number of people."
      ]
    },
    {
      "cell_type": "code",
      "metadata": {
        "id": "5OHAeOqeIQVM",
        "colab_type": "code",
        "outputId": "dc9a3ac4-6bc4-48be-8fed-45cb4efdb7e3",
        "colab": {
          "base_uri": "https://localhost:8080/",
          "height": 297
        }
      },
      "source": [
        "# Draw a cross tab of Attritiona and BusinessTravel \n",
        "# You may use crosstab of pandas for this \n",
        "sns.countplot(x = 'BusinessTravel', hue = 'Attrition', data = df)\n",
        "plt.ylabel('Attrition Count')\n",
        "\n",
        "# pd.crosstab(df.BusinessTravel, df.Attrition).plot(kind='bar')"
      ],
      "execution_count": 0,
      "outputs": [
        {
          "output_type": "execute_result",
          "data": {
            "text/plain": [
              "Text(0, 0.5, 'Attrition Count')"
            ]
          },
          "metadata": {
            "tags": []
          },
          "execution_count": 67
        },
        {
          "output_type": "display_data",
          "data": {
            "image/png": "[encoded data removed]",
            "text/plain": [
              "<Figure size 432x288 with 1 Axes>"
            ]
          },
          "metadata": {
            "tags": [],
            "needs_background": "light"
          }
        }
      ]
    },
    {
      "cell_type": "markdown",
      "metadata": {
        "id": "1FCc9ZkUHfqL",
        "colab_type": "text"
      },
      "source": [
        "### Visualize the ```df``` by drawing the following plot:\n",
        "\n",
        "* Draw a stacked bar chart between ```Attrition``` and ```Gender``` columns. "
      ]
    },
    {
      "cell_type": "code",
      "metadata": {
        "id": "58ELSAXBIQST",
        "colab_type": "code",
        "outputId": "535f2268-4382-4caa-e70e-9131aab5e69f",
        "colab": {
          "base_uri": "https://localhost:8080/",
          "height": 322
        }
      },
      "source": [
        "# Draw a stacked bar chart between Attrition and Gender \n",
        "pd.crosstab(df.Gender, df.Attrition).plot(kind='bar', stacked='True')\n",
        "plt.ylabel('Attrition Count')"
      ],
      "execution_count": 0,
      "outputs": [
        {
          "output_type": "execute_result",
          "data": {
            "text/plain": [
              "Text(0, 0.5, 'Attrition Count')"
            ]
          },
          "metadata": {
            "tags": []
          },
          "execution_count": 79
        },
        {
          "output_type": "display_data",
          "data": {
            "image/png": "[encoded data removed]",
            "text/plain": [
              "<Figure size 432x288 with 1 Axes>"
            ]
          },
          "metadata": {
            "tags": [],
            "needs_background": "light"
          }
        }
      ]
    },
    {
      "cell_type": "markdown",
      "metadata": {
        "id": "vZzsi8_QLEdq",
        "colab_type": "text"
      },
      "source": [
        "### Visualize the ```df``` by drawing the following histogram:\n",
        "\n",
        "* Draw a histogram of ```TotalWorkingYears``` with 30 bins. \n",
        "* Draw a histogram of ```YearsAtCompany``` with 30 bins and find whether the values in ```YearsAtCompany``` are skewed. "
      ]
    },
    {
      "cell_type": "code",
      "metadata": {
        "id": "zvSlfj3FLUvV",
        "colab_type": "code",
        "outputId": "1bc0a779-8249-4c23-e1e9-9b0a01deec70",
        "colab": {
          "base_uri": "https://localhost:8080/",
          "height": 450
        }
      },
      "source": [
        "# Draw a histogram of TotalWorkingYears with 30 bins\n",
        "plt.hist(df.TotalWorkingYears, bins=30)"
      ],
      "execution_count": 0,
      "outputs": [
        {
          "output_type": "execute_result",
          "data": {
            "text/plain": [
              "(array([ 65.,  24.,  32., 108.,  87.,  54., 140., 133.,  19.,  61.,  17.,\n",
              "         21.,  53.,  20.,  15.,  47.,  20.,  16.,  21.,  13.,   2.,  17.,\n",
              "          6.,   9.,  14.,   3.,   1.,   7.,   1.,   2.]),\n",
              " array([ 0.        ,  1.33333333,  2.66666667,  4.        ,  5.33333333,\n",
              "         6.66666667,  8.        ,  9.33333333, 10.66666667, 12.        ,\n",
              "        13.33333333, 14.66666667, 16.        , 17.33333333, 18.66666667,\n",
              "        20.        , 21.33333333, 22.66666667, 24.        , 25.33333333,\n",
              "        26.66666667, 28.        , 29.33333333, 30.66666667, 32.        ,\n",
              "        33.33333333, 34.66666667, 36.        , 37.33333333, 38.66666667,\n",
              "        40.        ]),\n",
              " <a list of 30 Patch objects>)"
            ]
          },
          "metadata": {
            "tags": []
          },
          "execution_count": 82
        },
        {
          "output_type": "display_data",
          "data": {
            "image/png": "[encoded data removed]",
            "text/plain": [
              "<Figure size 432x288 with 1 Axes>"
            ]
          },
          "metadata": {
            "tags": [],
            "needs_background": "light"
          }
        }
      ]
    },
    {
      "cell_type": "code",
      "metadata": {
        "id": "yu03LOk9VFuz",
        "colab_type": "code",
        "outputId": "ca2d71df-52c0-4f53-e782-77b16b10cf81",
        "colab": {
          "base_uri": "https://localhost:8080/",
          "height": 450
        }
      },
      "source": [
        "# Draw a histogram of YearsAtCompany\n",
        "plt.hist(df.YearsAtCompany, bins=30)"
      ],
      "execution_count": 0,
      "outputs": [
        {
          "output_type": "execute_result",
          "data": {
            "text/plain": [
              "(array([156.,  84.,  93., 202.,  57.,  62., 121.,  78.,  23.,  24.,  10.,\n",
              "         12.,  16.,  11.,   9.,  31.,   9.,   0.,  10.,   3.,   2.,   2.,\n",
              "          0.,   3.,   6.,   1.,   0.,   2.,   0.,   1.]),\n",
              " array([ 0.        ,  1.33333333,  2.66666667,  4.        ,  5.33333333,\n",
              "         6.66666667,  8.        ,  9.33333333, 10.66666667, 12.        ,\n",
              "        13.33333333, 14.66666667, 16.        , 17.33333333, 18.66666667,\n",
              "        20.        , 21.33333333, 22.66666667, 24.        , 25.33333333,\n",
              "        26.66666667, 28.        , 29.33333333, 30.66666667, 32.        ,\n",
              "        33.33333333, 34.66666667, 36.        , 37.33333333, 38.66666667,\n",
              "        40.        ]),\n",
              " <a list of 30 Patch objects>)"
            ]
          },
          "metadata": {
            "tags": []
          },
          "execution_count": 83
        },
        {
          "output_type": "display_data",
          "data": {
            "image/png": "[encoded data removed]",
            "text/plain": [
              "<Figure size 432x288 with 1 Axes>"
            ]
          },
          "metadata": {
            "tags": [],
            "needs_background": "light"
          }
        }
      ]
    },
    {
      "cell_type": "markdown",
      "metadata": {
        "id": "oBcsFqz-Moja",
        "colab_type": "text"
      },
      "source": [
        "### Visualize the ```df``` by drawing the following boxplot:\n",
        "\n",
        "* Draw a boxplot of ```MonthlyIncome``` for each ```Department``` and report whether there is/are outlier(s). \n"
      ]
    },
    {
      "cell_type": "code",
      "metadata": {
        "id": "S6zsSE65NED9",
        "colab_type": "code",
        "outputId": "d2fd6165-f2bc-4ef8-e303-f24f0c279c37",
        "colab": {
          "base_uri": "https://localhost:8080/",
          "height": 296
        }
      },
      "source": [
        "# Draw a boxplot of MonthlyIncome for each Department and report outliers \n",
        "sns.boxplot('Department', 'MonthlyIncome', data=df)"
      ],
      "execution_count": 0,
      "outputs": [
        {
          "output_type": "execute_result",
          "data": {
            "text/plain": [
              "<matplotlib.axes._subplots.AxesSubplot at 0x7efe20851e80>"
            ]
          },
          "metadata": {
            "tags": []
          },
          "execution_count": 85
        },
        {
          "output_type": "display_data",
          "data": {
            "image/png": "[encoded data removed]",
            "text/plain": [
              "<Figure size 432x288 with 1 Axes>"
            ]
          },
          "metadata": {
            "tags": [],
            "needs_background": "light"
          }
        }
      ]
    },
    {
      "cell_type": "markdown",
      "metadata": {
        "id": "NRPgJjp-NX07",
        "colab_type": "text"
      },
      "source": [
        "### Visualize the ```df``` by drawing the following piechart:\n",
        "\n",
        "* Create a pie chart of the values in ```JobRole``` with suitable label and report which role has highest number of persons. "
      ]
    },
    {
      "cell_type": "code",
      "metadata": {
        "id": "5pr2HVVGNlaV",
        "colab_type": "code",
        "outputId": "ee240d4c-8f07-444d-ba81-b74f3e11f650",
        "colab": {
          "base_uri": "https://localhost:8080/",
          "height": 550
        }
      },
      "source": [
        "# Create a piechart of JobRole \n",
        "# You will need to find the counts of unique values in JobRole. \n",
        "plt.pie(df.JobRole.value_counts(), labels=df.JobRole.value_counts().index.tolist())"
      ],
      "execution_count": 0,
      "outputs": [
        {
          "output_type": "execute_result",
          "data": {
            "text/plain": [
              "([<matplotlib.patches.Wedge at 0x7efe206cecf8>,\n",
              "  <matplotlib.patches.Wedge at 0x7efe206dc240>,\n",
              "  <matplotlib.patches.Wedge at 0x7efe206dc748>,\n",
              "  <matplotlib.patches.Wedge at 0x7efe206dcba8>,\n",
              "  <matplotlib.patches.Wedge at 0x7efe206e9080>,\n",
              "  <matplotlib.patches.Wedge at 0x7efe206e9518>,\n",
              "  <matplotlib.patches.Wedge at 0x7efe206e99b0>,\n",
              "  <matplotlib.patches.Wedge at 0x7efe206e9e48>,\n",
              "  <matplotlib.patches.Wedge at 0x7efe20673320>],\n",
              " [Text(0.8542961340812947, 0.6929488547459725, 'Sales Executive'),\n",
              "  Text(-0.45945693362420414, 0.9994495115535571, 'Research Scientist'),\n",
              "  Text(-1.0981462091349679, -0.06383496974620964, 'Laboratory Technician'),\n",
              "  Text(-0.6503653604759383, -0.8871442373667334, 'Manufacturing Director'),\n",
              "  Text(-0.05712202505487643, -1.0985158507065933, 'Healthcare Representative'),\n",
              "  Text(0.47770465248811617, -0.9908573383647155, 'Manager'),\n",
              "  Text(0.841447151537986, -0.708496077031207, 'Research Director'),\n",
              "  Text(1.03505987357499, -0.37235877606808926, 'Sales Representative'),\n",
              "  Text(1.09597534812125, -0.0940108308148859, 'Human Resources')])"
            ]
          },
          "metadata": {
            "tags": []
          },
          "execution_count": 89
        },
        {
          "output_type": "display_data",
          "data": {
            "image/png": "[encoded data removed]",
            "text/plain": [
              "<Figure size 432x288 with 1 Axes>"
            ]
          },
          "metadata": {
            "tags": []
          }
        }
      ]
    },
    {
      "cell_type": "code",
      "metadata": {
        "id": "5e7vqLPkauuU",
        "colab_type": "code",
        "colab": {}
      },
      "source": [
        ""
      ],
      "execution_count": 0,
      "outputs": []
    }
  ]
}